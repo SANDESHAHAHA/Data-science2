{
  "nbformat": 4,
  "nbformat_minor": 0,
  "metadata": {
    "colab": {
      "provenance": [],
      "gpuType": "T4",
      "authorship_tag": "ABX9TyOBUqRSl+977FU8VC7Lfhaz",
      "include_colab_link": true
    },
    "kernelspec": {
      "name": "python3",
      "display_name": "Python 3"
    },
    "language_info": {
      "name": "python"
    },
    "accelerator": "GPU"
  },
  "cells": [
    {
      "cell_type": "markdown",
      "metadata": {
        "id": "view-in-github",
        "colab_type": "text"
      },
      "source": [
        "<a href=\"https://colab.research.google.com/github/SANDESHAHAHA/Data-science2/blob/main/lossfunction.ipynb\" target=\"_parent\"><img src=\"https://colab.research.google.com/assets/colab-badge.svg\" alt=\"Open In Colab\"/></a>"
      ]
    },
    {
      "cell_type": "code",
      "execution_count": 71,
      "metadata": {
        "id": "jKj6EcHOzC-Y"
      },
      "outputs": [],
      "source": [
        "import numpy as np\n",
        "import matplotlib.pyplot as plt\n",
        "import pandas as pd\n",
        "import seaborn as sns\n"
      ]
    },
    {
      "cell_type": "markdown",
      "source": [
        "**For logistic regression log loss is perfect **"
      ],
      "metadata": {
        "id": "doiP2bXM78Ql"
      }
    },
    {
      "cell_type": "code",
      "source": [
        "y_predicted=np.array([1,1,0,0,1])\n",
        "y_true=np.array([0.30,0.7,1,0,0.5])"
      ],
      "metadata": {
        "id": "KisBvcPAzOxX"
      },
      "execution_count": 72,
      "outputs": []
    },
    {
      "cell_type": "code",
      "source": [
        "def mae(y_true,y_predicted):\n",
        "    total_error=0\n",
        "    # for loop in two arrays parallely we use zip function\n",
        "    for yt,yp in zip(y_true,y_predicted):\n",
        "        total_error += abs(yt-yp)\n",
        "    print(\"Total error\",total_error)\n",
        "    mae=total_error/len(y_true)\n",
        "    print(\"Mean Absolute Error\",mae)\n",
        "    return mae"
      ],
      "metadata": {
        "id": "lBbWYuhR-DCn"
      },
      "execution_count": 73,
      "outputs": []
    },
    {
      "cell_type": "code",
      "source": [
        "mae(y_true,y_predicted)"
      ],
      "metadata": {
        "colab": {
          "base_uri": "https://localhost:8080/"
        },
        "id": "-ykOZP4x_HpL",
        "outputId": "d1e83d53-73f1-4aec-f101-cd36cb357547"
      },
      "execution_count": 74,
      "outputs": [
        {
          "output_type": "stream",
          "name": "stdout",
          "text": [
            "Total error 2.5\n",
            "Mean Absolute Error 0.5\n"
          ]
        },
        {
          "output_type": "execute_result",
          "data": {
            "text/plain": [
              "np.float64(0.5)"
            ]
          },
          "metadata": {},
          "execution_count": 74
        }
      ]
    },
    {
      "cell_type": "code",
      "source": [
        "y_predicted-y_true"
      ],
      "metadata": {
        "colab": {
          "base_uri": "https://localhost:8080/"
        },
        "id": "0tC7oJ1ZGx0O",
        "outputId": "ff599fa8-d4fc-4de7-b96d-686c0694d4bc"
      },
      "execution_count": 75,
      "outputs": [
        {
          "output_type": "execute_result",
          "data": {
            "text/plain": [
              "array([ 0.7,  0.3, -1. ,  0. ,  0.5])"
            ]
          },
          "metadata": {},
          "execution_count": 75
        }
      ]
    },
    {
      "cell_type": "code",
      "source": [
        "np.abs(y_predicted-y_true)"
      ],
      "metadata": {
        "colab": {
          "base_uri": "https://localhost:8080/"
        },
        "id": "tppiY911G38X",
        "outputId": "49d21192-a822-4757-eb6a-6263c26a8bd8"
      },
      "execution_count": 76,
      "outputs": [
        {
          "output_type": "execute_result",
          "data": {
            "text/plain": [
              "array([0.7, 0.3, 1. , 0. , 0.5])"
            ]
          },
          "metadata": {},
          "execution_count": 76
        }
      ]
    },
    {
      "cell_type": "code",
      "source": [
        "np.mean(np.abs(y_predicted-y_true))"
      ],
      "metadata": {
        "colab": {
          "base_uri": "https://localhost:8080/"
        },
        "id": "vD6i2VnUG8W5",
        "outputId": "15a73a01-f16c-43f0-97db-fff3223ee8be"
      },
      "execution_count": 77,
      "outputs": [
        {
          "output_type": "execute_result",
          "data": {
            "text/plain": [
              "np.float64(0.5)"
            ]
          },
          "metadata": {},
          "execution_count": 77
        }
      ]
    },
    {
      "cell_type": "code",
      "source": [
        "np.sum(np.abs(y_predicted-y_true))\n",
        "#mean absolute error"
      ],
      "metadata": {
        "colab": {
          "base_uri": "https://localhost:8080/"
        },
        "id": "WbXYVgN-HCHV",
        "outputId": "204cd337-58ca-4fb7-9c40-7be5b145c118"
      },
      "execution_count": 78,
      "outputs": [
        {
          "output_type": "execute_result",
          "data": {
            "text/plain": [
              "np.float64(2.5)"
            ]
          },
          "metadata": {},
          "execution_count": 78
        }
      ]
    },
    {
      "cell_type": "code",
      "source": [
        "# using log loss it may create a 0 as outcome at many cases so we use epsilon\n",
        "epsilon=1e-15\n",
        "y_predicted\n",
        "#now changing the value close to 1 but not 1 to prevent the above error\n",
        "\n",
        "\n"
      ],
      "metadata": {
        "colab": {
          "base_uri": "https://localhost:8080/"
        },
        "id": "kwgVVfOKHBrs",
        "outputId": "7f645378-211e-4728-bc86-ccb724e9d108"
      },
      "execution_count": 79,
      "outputs": [
        {
          "output_type": "execute_result",
          "data": {
            "text/plain": [
              "array([1, 1, 0, 0, 1])"
            ]
          },
          "metadata": {},
          "execution_count": 79
        }
      ]
    },
    {
      "cell_type": "code",
      "source": [
        "# y_predicted_new=[max(i,epsilon) for i in y_predicted ]\n",
        "# y_predicted_new\n"
      ],
      "metadata": {
        "id": "5evaO2YhIhRa"
      },
      "execution_count": 80,
      "outputs": []
    },
    {
      "cell_type": "code",
      "source": [
        "# y_final=[min(i,1-epsilon) for i in y_predicted_new]\n",
        "# y_final"
      ],
      "metadata": {
        "id": "yGYxeJuqJqyq"
      },
      "execution_count": 81,
      "outputs": []
    },
    {
      "cell_type": "code",
      "source": [
        "np.log(y_final)"
      ],
      "metadata": {
        "colab": {
          "base_uri": "https://localhost:8080/"
        },
        "id": "hVgSZP2GKIDO",
        "outputId": "a0aa5efd-f248-4cdc-ebac-39b97d83c449"
      },
      "execution_count": 82,
      "outputs": [
        {
          "output_type": "execute_result",
          "data": {
            "text/plain": [
              "array([-9.99200722e-16, -9.99200722e-16, -3.45387764e+01, -3.45387764e+01,\n",
              "       -9.99200722e-16])"
            ]
          },
          "metadata": {},
          "execution_count": 82
        }
      ]
    },
    {
      "cell_type": "code",
      "source": [
        "# np.log(y_predicted)"
      ],
      "metadata": {
        "id": "fZnhu9TDKK_F"
      },
      "execution_count": 83,
      "outputs": []
    },
    {
      "cell_type": "code",
      "source": [
        "#clipping function works like : range bhitra paro bhane tettikai hunxa, ra thrshold sanga compare garda\n",
        "#yedi threshold given value bhanda sano xa bhane threshold set hunxa ra yedi given value threshold bhanda thulo xa bhane pani threshold set hunxa\n",
        "#example given at last\n",
        "\n",
        "y_predicted_new=np.clip(y_predicted,epsilon,1-epsilon)\n",
        "y_predicted_new"
      ],
      "metadata": {
        "colab": {
          "base_uri": "https://localhost:8080/"
        },
        "id": "qavkaRBfKOe1",
        "outputId": "40208984-f5c2-4c9b-8566-f52c4a73cb02"
      },
      "execution_count": 84,
      "outputs": [
        {
          "output_type": "execute_result",
          "data": {
            "text/plain": [
              "array([1.e+00, 1.e+00, 1.e-15, 1.e-15, 1.e+00])"
            ]
          },
          "metadata": {},
          "execution_count": 84
        }
      ]
    },
    {
      "cell_type": "code",
      "source": [
        "# this is log loss/ binary cross entropy\n",
        "-np.mean(y_true*np.log(y_predicted_new)+(1-y_true)*np.log(1-y_predicted_new))"
      ],
      "metadata": {
        "colab": {
          "base_uri": "https://localhost:8080/"
        },
        "id": "iXACOlEBKNr-",
        "outputId": "0e25ab66-bf38-40a8-cafb-a27e90739b90"
      },
      "execution_count": 85,
      "outputs": [
        {
          "output_type": "execute_result",
          "data": {
            "text/plain": [
              "np.float64(17.2696280766844)"
            ]
          },
          "metadata": {},
          "execution_count": 85
        }
      ]
    },
    {
      "cell_type": "code",
      "source": [
        "arr = np.array([0, 0.5, 1, 2])\n",
        "clipped = np.clip(arr, 0.1, 0.9)\n",
        "print(clipped)"
      ],
      "metadata": {
        "colab": {
          "base_uri": "https://localhost:8080/"
        },
        "id": "mQ-bGYrhRgVK",
        "outputId": "b59e2381-10b5-4070-f74a-6352004d4499"
      },
      "execution_count": 86,
      "outputs": [
        {
          "output_type": "stream",
          "name": "stdout",
          "text": [
            "[0.1 0.5 0.9 0.9]\n"
          ]
        }
      ]
    }
  ]
}